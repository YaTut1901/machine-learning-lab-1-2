{
 "cells": [
  {
   "cell_type": "code",
   "execution_count": null,
   "id": "4f2bbcbb",
   "metadata": {},
   "outputs": [],
   "source": [
    "import kagglehub\n",
    "import os\n",
    "import pandas as pd\n",
    "from pandas.plotting import scatter_matrix\n",
    "import matplotlib.pyplot as plt\n",
    "from sklearn.model_selection import train_test_split\n",
    "from sklearn.linear_model import LinearRegression\n",
    "import numpy as np\n",
    "from sklearn.metrics import mean_squared_error, r2_score, mean_absolute_error"
   ]
  },
  {
   "cell_type": "code",
   "execution_count": null,
   "id": "86d38d03",
   "metadata": {},
   "outputs": [],
   "source": [
    "path = kagglehub.dataset_download(\"camnugent/sandp500\") + \"/individual_stocks_5yr/individual_stocks_5yr/AAL_data.csv\"\n",
    "df = pd.read_csv(path)\n",
    "\n",
    "print(df.shape)\n",
    "print(df.info())\n",
    "print(df.head())\n",
    "print(df.isnull().sum())\n",
    "print(df.isna().sum())\n",
    "print(df.describe(include=\"all\"))"
   ]
  },
  {
   "cell_type": "code",
   "execution_count": null,
   "id": "288d7f4e-4c46-4145-ae4a-316b17f96d1b",
   "metadata": {},
   "outputs": [],
   "source": [
    "train_data, test_data = train_test_split(df, test_size=0.2, random_state=42, shuffle=False)\n",
    "target = 'close'\n",
    "train_data['date'] = pd.to_datetime(train_data['date']).astype('int64') // 10**9\n",
    "test_data['date'] = pd.to_datetime(test_data['date']).astype('int64') // 10**9"
   ]
  },
  {
   "cell_type": "code",
   "execution_count": null,
   "id": "6cc2bd29",
   "metadata": {},
   "outputs": [],
   "source": [
    "X_train = train_data[['date']]\n",
    "y_train = train_data[target]\n",
    "\n",
    "X_test = test_data[['date']]\n",
    "y_test = test_data[target]\n",
    "\n",
    "model = LinearRegression().fit(X_train, y_train)\n",
    "\n",
    "y_pred = model.predict(X_test)\n",
    "\n",
    "# Calculate MAE and RMSE\n",
    "mae = mean_absolute_error(y_test, y_pred)\n",
    "rmse = np.sqrt(mean_squared_error(y_test, y_pred))\n",
    "\n",
    "print(f\"Mean Absolute Error (MAE): {mae:.4f}\")\n",
    "print(f\"Root Mean Square Error (RMSE): {rmse:.4f}\")"
   ]
  },
  {
   "cell_type": "code",
   "execution_count": null,
   "id": "8032ce58",
   "metadata": {},
   "outputs": [],
   "source": []
  },
  {
   "cell_type": "code",
   "execution_count": null,
   "id": "71bea64e",
   "metadata": {},
   "outputs": [],
   "source": [
    "x_values = X_test['date'].values \n",
    "y_values = y_test.values\n",
    "\n",
    "order = np.argsort(x_values)\n",
    "\n",
    "plt.figure(figsize=(8, 6))\n",
    "plt.scatter(x_values, y_values, color=\"steelblue\", alpha=0.6, label=\"Actual data\")\n",
    "plt.plot(x_values[order], y_pred[order], color=\"crimson\", linewidth=2, label=\"Regression line\")\n",
    "plt.title(\"Simple Linear Regression (stock data): date vs close\")\n",
    "plt.xlabel(\"date\")\n",
    "plt.ylabel(\"close\")\n",
    "plt.legend()\n",
    "plt.grid(True, alpha=0.3)\n",
    "plt.show()"
   ]
  },
  {
   "cell_type": "code",
   "execution_count": null,
   "id": "6b09f86b",
   "metadata": {},
   "outputs": [],
   "source": []
  },
  {
   "cell_type": "code",
   "execution_count": null,
   "id": "2a37a24c",
   "metadata": {},
   "outputs": [],
   "source": []
  }
 ],
 "metadata": {
  "kernelspec": {
   "display_name": "Python 3 (ipykernel)",
   "language": "python",
   "name": "python3"
  },
  "language_info": {
   "codemirror_mode": {
    "name": "ipython",
    "version": 3
   },
   "file_extension": ".py",
   "mimetype": "text/x-python",
   "name": "python",
   "nbconvert_exporter": "python",
   "pygments_lexer": "ipython3",
   "version": "3.12.5"
  }
 },
 "nbformat": 4,
 "nbformat_minor": 5
}
